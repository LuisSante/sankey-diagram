{
 "cells": [
  {
   "cell_type": "code",
   "execution_count": 1,
   "id": "f43b9764",
   "metadata": {},
   "outputs": [],
   "source": [
    "import pandas as pd"
   ]
  },
  {
   "cell_type": "code",
   "execution_count": 2,
   "id": "8295abdd",
   "metadata": {},
   "outputs": [
    {
     "data": {
      "text/html": [
       "<div>\n",
       "<style scoped>\n",
       "    .dataframe tbody tr th:only-of-type {\n",
       "        vertical-align: middle;\n",
       "    }\n",
       "\n",
       "    .dataframe tbody tr th {\n",
       "        vertical-align: top;\n",
       "    }\n",
       "\n",
       "    .dataframe thead th {\n",
       "        text-align: right;\n",
       "    }\n",
       "</style>\n",
       "<table border=\"1\" class=\"dataframe\">\n",
       "  <thead>\n",
       "    <tr style=\"text-align: right;\">\n",
       "      <th></th>\n",
       "      <th>Affiliation Country</th>\n",
       "      <th>Application Country</th>\n",
       "      <th>aff app count</th>\n",
       "      <th>Affiliation count</th>\n",
       "      <th>Application count</th>\n",
       "    </tr>\n",
       "  </thead>\n",
       "  <tbody>\n",
       "    <tr>\n",
       "      <th>0</th>\n",
       "      <td>Australia</td>\n",
       "      <td>Australia</td>\n",
       "      <td>2</td>\n",
       "      <td>7</td>\n",
       "      <td>31</td>\n",
       "    </tr>\n",
       "    <tr>\n",
       "      <th>1</th>\n",
       "      <td>Australia</td>\n",
       "      <td>Austria</td>\n",
       "      <td>1</td>\n",
       "      <td>7</td>\n",
       "      <td>9</td>\n",
       "    </tr>\n",
       "    <tr>\n",
       "      <th>2</th>\n",
       "      <td>Australia</td>\n",
       "      <td>Botswana</td>\n",
       "      <td>1</td>\n",
       "      <td>7</td>\n",
       "      <td>28</td>\n",
       "    </tr>\n",
       "    <tr>\n",
       "      <th>3</th>\n",
       "      <td>Australia</td>\n",
       "      <td>Brasil</td>\n",
       "      <td>1</td>\n",
       "      <td>7</td>\n",
       "      <td>31</td>\n",
       "    </tr>\n",
       "    <tr>\n",
       "      <th>4</th>\n",
       "      <td>Australia</td>\n",
       "      <td>Canada</td>\n",
       "      <td>1</td>\n",
       "      <td>7</td>\n",
       "      <td>33</td>\n",
       "    </tr>\n",
       "    <tr>\n",
       "      <th>...</th>\n",
       "      <td>...</td>\n",
       "      <td>...</td>\n",
       "      <td>...</td>\n",
       "      <td>...</td>\n",
       "      <td>...</td>\n",
       "    </tr>\n",
       "    <tr>\n",
       "      <th>514</th>\n",
       "      <td>USA</td>\n",
       "      <td>Sweden</td>\n",
       "      <td>5</td>\n",
       "      <td>52</td>\n",
       "      <td>29</td>\n",
       "    </tr>\n",
       "    <tr>\n",
       "      <th>515</th>\n",
       "      <td>USA</td>\n",
       "      <td>Thailand</td>\n",
       "      <td>4</td>\n",
       "      <td>52</td>\n",
       "      <td>28</td>\n",
       "    </tr>\n",
       "    <tr>\n",
       "      <th>516</th>\n",
       "      <td>USA</td>\n",
       "      <td>UK</td>\n",
       "      <td>10</td>\n",
       "      <td>52</td>\n",
       "      <td>48</td>\n",
       "    </tr>\n",
       "    <tr>\n",
       "      <th>517</th>\n",
       "      <td>USA</td>\n",
       "      <td>USA</td>\n",
       "      <td>26</td>\n",
       "      <td>52</td>\n",
       "      <td>66</td>\n",
       "    </tr>\n",
       "    <tr>\n",
       "      <th>518</th>\n",
       "      <td>USA</td>\n",
       "      <td>Ukraine</td>\n",
       "      <td>4</td>\n",
       "      <td>52</td>\n",
       "      <td>28</td>\n",
       "    </tr>\n",
       "  </tbody>\n",
       "</table>\n",
       "<p>519 rows × 5 columns</p>\n",
       "</div>"
      ],
      "text/plain": [
       "    Affiliation Country Application Country  aff app count  Affiliation count  \\\n",
       "0             Australia           Australia              2                  7   \n",
       "1             Australia             Austria              1                  7   \n",
       "2             Australia            Botswana              1                  7   \n",
       "3             Australia              Brasil              1                  7   \n",
       "4             Australia              Canada              1                  7   \n",
       "..                  ...                 ...            ...                ...   \n",
       "514                 USA              Sweden              5                 52   \n",
       "515                 USA            Thailand              4                 52   \n",
       "516                 USA                  UK             10                 52   \n",
       "517                 USA                 USA             26                 52   \n",
       "518                 USA             Ukraine              4                 52   \n",
       "\n",
       "     Application count  \n",
       "0                   31  \n",
       "1                    9  \n",
       "2                   28  \n",
       "3                   31  \n",
       "4                   33  \n",
       "..                 ...  \n",
       "514                 29  \n",
       "515                 28  \n",
       "516                 48  \n",
       "517                 66  \n",
       "518                 28  \n",
       "\n",
       "[519 rows x 5 columns]"
      ]
     },
     "execution_count": 2,
     "metadata": {},
     "output_type": "execute_result"
    }
   ],
   "source": [
    "df = pd.read_csv(\"data_countries.csv\")\n",
    "df = df.drop(columns=[\"Unnamed: 0\"])\n",
    "df"
   ]
  },
  {
   "cell_type": "code",
   "execution_count": 3,
   "id": "67632bb9",
   "metadata": {},
   "outputs": [
    {
     "name": "stdout",
     "output_type": "stream",
     "text": [
      "Affiliation Countries: 29\n",
      "Application Countries: 42\n"
     ]
    },
    {
     "data": {
      "text/plain": [
       "44"
      ]
     },
     "execution_count": 3,
     "metadata": {},
     "output_type": "execute_result"
    }
   ],
   "source": [
    "affc = df['Affiliation Country'].unique()\n",
    "appc = df['Application Country'].unique()\n",
    "\n",
    "print(f\"Affiliation Countries: {len(affc)}\")\n",
    "print(f\"Application Countries: {len(appc)}\")\n",
    "\n",
    "arr = affc.tolist() + appc.tolist()\n",
    "arr = list(set(arr)) \n",
    "len(arr)"
   ]
  },
  {
   "cell_type": "code",
   "execution_count": 4,
   "id": "42d89e29",
   "metadata": {},
   "outputs": [
    {
     "data": {
      "text/plain": [
       "np.int64(552)"
      ]
     },
     "execution_count": 4,
     "metadata": {},
     "output_type": "execute_result"
    }
   ],
   "source": [
    "df_china = df[df['Affiliation Country'] == 'China']\n",
    "df_china_count = df_china['aff app count'].sum()\n",
    "df_china_count"
   ]
  },
  {
   "cell_type": "code",
   "execution_count": 5,
   "id": "da8102e6",
   "metadata": {},
   "outputs": [
    {
     "data": {
      "text/plain": [
       "42"
      ]
     },
     "execution_count": 5,
     "metadata": {},
     "output_type": "execute_result"
    }
   ],
   "source": [
    "height_node_affiliation = df['Affiliation Country'].unique()\n",
    "height_node_affiliation = df['Affiliation Country'].unique()\n",
    "\n",
    "for i in height_node_affiliation:\n",
    "    df_temp = df[df['Affiliation Country'] == i]\n",
    "    value_affc = df_temp['Affiliation count'].unique()\n",
    "    #print(i, value_affc)\n",
    "\n",
    "len(height_node_affiliation)\n",
    "\n",
    "height_node_application = df['Application Country'].unique()\n",
    "height_node_application = df['Application Country'].unique()\n",
    "for i in height_node_application:\n",
    "    df_temp = df[df['Application Country'] == i]\n",
    "    value_appc= df_temp['Application count'].unique()\n",
    "    #print(i, value_appc)\n",
    "    \n",
    "len(height_node_application)"
   ]
  },
  {
   "cell_type": "code",
   "execution_count": 6,
   "id": "6cd54bbe",
   "metadata": {},
   "outputs": [],
   "source": [
    "import json\n",
    "\n",
    "df['Affiliation Country'] = df['Affiliation Country'].str.strip()\n",
    "df['Application Country'] = df['Application Country'].str.strip()\n",
    "\n",
    "affiliation_countries = df['Affiliation Country'].unique()\n",
    "application_countries = df['Application Country'].unique()\n",
    "\n",
    "all_countries = sorted(set(affiliation_countries) | set(application_countries))\n",
    "country_to_index = {country: i for i, country in enumerate(all_countries)}\n",
    "\n",
    "nodes = []\n",
    "for country in all_countries:\n",
    "    df_aff = df[df['Affiliation Country'] == country]\n",
    "    value_affc = df_aff['Affiliation count'].unique()[0] if not df_aff.empty else 0\n",
    "\n",
    "    df_app = df[df['Application Country'] == country]\n",
    "    value_appc = df_app['Application count'].unique()[0] if not df_app.empty else 0\n",
    "\n",
    "    nodes.append({\n",
    "        \"id\": int(country_to_index[country]), \n",
    "        \"name\": str(country),\n",
    "        \"height_source\": int(value_affc),\n",
    "        \"height_target\": int(value_appc),\n",
    "    })\n",
    "\n",
    "links = []\n",
    "for _, row in df.iterrows():\n",
    "    source = country_to_index[row['Affiliation Country']]\n",
    "    target = country_to_index[row['Application Country']]\n",
    "    value = row['aff app count']\n",
    "    \n",
    "    # Obtener los valores de altura desde nodes\n",
    "    source_node = nodes[source]\n",
    "    target_node = nodes[target]\n",
    "    \n",
    "    links.append({\n",
    "        \"source\": source,\n",
    "        \"target\": target,\n",
    "        \"value\": value\n",
    "        #\"height_source\": source_node[\"height_affiliation\"],\n",
    "        #\"height_target\": target_node[\"height_application\"]\n",
    "    })\n",
    "\n",
    "sankey_data = {\n",
    "    \"nodes\": nodes,\n",
    "    \"links\": links\n",
    "}\n",
    "\n",
    "with open('sankey_data.json', 'w', encoding='utf-8') as f:\n",
    "    json.dump(sankey_data, f, indent=2, ensure_ascii=False)"
   ]
  }
 ],
 "metadata": {
  "kernelspec": {
   "display_name": "models",
   "language": "python",
   "name": "python3"
  },
  "language_info": {
   "codemirror_mode": {
    "name": "ipython",
    "version": 3
   },
   "file_extension": ".py",
   "mimetype": "text/x-python",
   "name": "python",
   "nbconvert_exporter": "python",
   "pygments_lexer": "ipython3",
   "version": "3.10.18"
  }
 },
 "nbformat": 4,
 "nbformat_minor": 5
}
